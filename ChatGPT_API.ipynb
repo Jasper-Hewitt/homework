{
  "nbformat": 4,
  "nbformat_minor": 0,
  "metadata": {
    "colab": {
      "provenance": [],
      "authorship_tag": "ABX9TyMqXUuW3NWJQMcKGhs8it3X",
      "include_colab_link": true
    },
    "kernelspec": {
      "name": "python3",
      "display_name": "Python 3"
    },
    "language_info": {
      "name": "python"
    }
  },
  "cells": [
    {
      "cell_type": "markdown",
      "metadata": {
        "id": "view-in-github",
        "colab_type": "text"
      },
      "source": [
        "<a href=\"https://colab.research.google.com/github/Jasper-Hewitt/homework/blob/main/ChatGPT_API.ipynb\" target=\"_parent\"><img src=\"https://colab.research.google.com/assets/colab-badge.svg\" alt=\"Open In Colab\"/></a>"
      ]
    },
    {
      "cell_type": "code",
      "source": [
        "!pip install fitz\n",
        "!pip install static\n",
        "!pip install frontend\n",
        "!pip install pymupdf --upgrade\n",
        "!pip install openai"
      ],
      "metadata": {
        "id": "--WTtQWMqpaN"
      },
      "execution_count": null,
      "outputs": []
    },
    {
      "cell_type": "code",
      "source": [
        "import os\n",
        "import openai\n",
        "import json\n",
        "openai.api_key = '' #delete when uploading "
      ],
      "metadata": {
        "id": "RFIOp0LkwFFm"
      },
      "execution_count": 2,
      "outputs": []
    },
    {
      "cell_type": "code",
      "source": [
        "#OPTIONAL\n",
        "#code for importing PDF files \n",
        "import fitz\n",
        "\n",
        "doc = fitz.open(\"\")\n",
        "\n",
        "for page in doc:\n",
        "    text = page.get_text(\"text\")\n",
        "    with open(\"output3.txt\", \"a\") as f:\n",
        "        f.write(text)"
      ],
      "metadata": {
        "id": "HwImwsYcqpkN"
      },
      "execution_count": null,
      "outputs": []
    },
    {
      "cell_type": "code",
      "source": [
        "#random news article\n",
        "text=\"\"\"Amid the ongoing economic crisis in Pakistan and India’s grand posturing on the global stage, there have been suggestions and predictions of India making a grand gesture for peace to Pakistan.\n",
        "Misreading the continuing ceasefire at the Line of Control (LoC) as a mutual desire for harmonious coexistence, arguments from both sides of the border suggest that this is an appropriate time for India to do so. The recommendations include India bailing out Pakistan from the current economic crisis, re-establishing trade ties, and starting a political dialogue.\n",
        "This surge in the pro-peace rhetoric has unmistakable similarities with past periods of optimism: Imran Khan’s becoming Pakistan’s prime minister (2018), Indian Prime Minister Narendra Modi’s re-election (2019), and the opening up of the Kartarpur Corridor (2019). However, there are reasons to conclude that the Indian government reads the present incentive structure – the costs and benefits – as unfavorable to invest in exploring peace with Pakistan.\n",
        "First, the current economic crisis does not change the structural factors underlying Pakistan’s adversarial policies toward India. The material power differential in economic and military terms is increasing between the two countries. Given their territorial dispute, Pakistan continues to perceive India as an external threat with revisionist tendencies. This points to a fundamental problem in international relations: A more powerful state finds it very difficult to credibly communicate and reassure a weaker adversary about its benign intentions. This translates into Pakistan’s long-standing policy of adopting asymmetric means and external balancing to check India. Consequently, it continues to feed into India’s understanding that Pakistan’s calls for peace, irrespective of crises, are not credible, nor will it take India’s peace gestures seriously.\n",
        "Second, with India gearing up for the 2024 parliamentary elections, initiating peace talks with Pakistan is a risky affair for the current government. It requires creating a new narrative and mobilizing domestic support in favor of peace talks with Pakistan. In turn, such an effort would exact immense costs in both time and political campaigning, without any guarantee of returns.\n",
        "Also, the government will pay high audience costs impacting the electoral arithmetic if any terror attack occurs in India during the talks. Even if Pakistan’s deep state is on board for the peace talks, it cannot ensure that no terror attacks will occur in India during the peace process. Not all the terrorist actors located in Pakistan – or even backed by its security establishment – are under the control of the deep state.\n",
        "Third, the Pakistan card is now gaining new currency as a red herring in the Indian government’s domestic calculus. It distracts the public from scrutinizing the government’s China policy at a time when even government sources have acknowledged the loss of access to large swathes of territory since the 2020 Galwan incident.\n",
        "Fourth, while Pakistan’s economic crisis may look like an opportunity, the political crisis there augurs poorly for peacebuilding. The apparent dispersion of political power in multiple centers makes India reluctant to initiate either formal or strategic backchannel peace talks with Pakistan. Prime Minister Shehbaz Sharif remains weak, the new army chief is yet to consolidate power, a schism is observable between the army and the Inter-Services Intelligence (ISI), and the opposition is stronger than ever in recent times.\n",
        "This is unlike the 2019-2021 phase, when then-Army Chief Qamar Bajwa was at the commanding heights of the Pakistani state and deep state, with a weak prime minister and opposition. That created ripe conditions for both countries to forge a ceasefire commitment in 2021 through backchannels.\n",
        "Fifth, the ongoing shift in India’s strategic priorities toward China means that the importance of Pakistan in India’s foreign policy matrix is decreasing. A fast-growing economy with greater resources to spend on defense means India will increasingly perceive Pakistan more as a nuisance than a threat. New Delhi will prefer the route of deterrence by denial or punishment instead of peacebuilding.\n",
        "Seventh, India’s intensified self-perception of being a leading power and a pole in the international system further deters it from pursuing a peace agenda. As a highly status-conscious state fast gaining global recognition, India will loathe talking to Pakistan. Doing so implies lowering New Delhi’s status and giving Pakistan recognition as an equal in the relative balance of status. If the expectation is that Modi should make a grand gesture, bad experiences in the past will dissuade him from the same.\n",
        "Lastly, over the years, India has successfully dehyphenated itself from Pakistan and has found creative ways and mechanisms to side-step or corner Pakistan in the international community. For New Delhi, these investments have high return potential, and even if not realized, the boat has sailed too far to court Pakistan now.\n",
        "On the one hand, the domestic and international risks and opportunity costs of pursuing a peace agenda (through trade, talks, and financial assistance) with Pakistan remain high. On the other hand, New Delhi’s current strategy of what Happymon Jacob calls “minimalist engagement” allows India to keep the LoC stable and focus on other pressing issues and strategic challenges.\n",
        "Moreover, peacemaking among traditional rivals has usually required the intervention of an external great power. Today, as far as the India-Pakistan dyad is concerned, the United States, China, and Russia, respectively, lack the will, incentive, and capacity to nudge India to pursue peace talks. They are busy attending to the conflict among themselves.\n",
        "So, given the structural constraints, lack of a common strategic threat, and the Indian government’s perception of the incentive structure in the bilateral relationship with Pakistan, the peace advocates and predictors will again be disappointed this year, despite their noble intentions. India’s latest move on the Indus Water Treaty should be an early warning to that effect.\"\"\""
      ],
      "metadata": {
        "id": "DTJe1K_V8DCS"
      },
      "execution_count": 3,
      "outputs": []
    },
    {
      "cell_type": "code",
      "source": [
        "#consult chatGPT and store output in variable named output\n",
        "input='summarize this, no more than 150 words:'+text\n",
        "\n",
        "completion = openai.ChatCompletion.create(\n",
        "    model=\"gpt-3.5-turbo\", \n",
        "    messages=[{\"role\": \"user\", \"content\": input}]\n",
        ")\n",
        "json_object = json.loads(str(completion))\n",
        "output = json_object['choices'][0]['message']['content']\n",
        "print(output)"
      ],
      "metadata": {
        "colab": {
          "base_uri": "https://localhost:8080/"
        },
        "id": "ADURwwZT4aUE",
        "outputId": "e46b91a0-ffc3-4724-c99d-923f9bf03793"
      },
      "execution_count": 4,
      "outputs": [
        {
          "output_type": "stream",
          "name": "stdout",
          "text": [
            "Despite calls for India to make a grand gesture of peace towards Pakistan amid the ongoing economic crisis in the latter country, it is unlikely that India will engage in peace talks in the near future. One of the main reasons is that the current economic crisis in Pakistan does not change the underlying factors causing the adversarial relationship between the two countries, which are based on territorial disputes and Pakistan’s perception of India as an external threat. Additionally, with upcoming parliamentary elections in India, peace talks with Pakistan are seen as a risky proposition as they require creating a new narrative and mobilizing domestic support. The government is also hesitant to take on the audience costs if any terror attack occurs in India during the talks. India's strategic priorities, including its shift towards China, means that the importance of Pakistan in India’s foreign policy matrix is decreasing. Furthermore, India's self-perception as a leading power deters it from pursuing a peace agenda as it implies lowering New Delhi’s status. Finally, India has successfully “dehyphenated” itself from Pakistan and is seeking ways to sidestep or corner it in the international community, with high return potential.\n"
          ]
        }
      ]
    }
  ]
}
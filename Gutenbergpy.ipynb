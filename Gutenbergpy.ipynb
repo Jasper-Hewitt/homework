{
  "nbformat": 4,
  "nbformat_minor": 0,
  "metadata": {
    "colab": {
      "provenance": [],
      "authorship_tag": "ABX9TyPHFRjWhdSKHcZTpQe33rZa",
      "include_colab_link": true
    },
    "kernelspec": {
      "name": "python3",
      "display_name": "Python 3"
    },
    "language_info": {
      "name": "python"
    }
  },
  "cells": [
    {
      "cell_type": "markdown",
      "metadata": {
        "id": "view-in-github",
        "colab_type": "text"
      },
      "source": [
        "<a href=\"https://colab.research.google.com/github/Jasper-Hewitt/homework/blob/main/Gutenbergpy.ipynb\" target=\"_parent\"><img src=\"https://colab.research.google.com/assets/colab-badge.svg\" alt=\"Open In Colab\"/></a>"
      ]
    },
    {
      "cell_type": "code",
      "source": [
        "!pip install gutenbergpy"
      ],
      "metadata": {
        "colab": {
          "base_uri": "https://localhost:8080/"
        },
        "id": "bxJOTmFIpNVQ",
        "outputId": "89ea5eef-07ca-4563-d88d-69eff560bbc9"
      },
      "execution_count": 10,
      "outputs": [
        {
          "output_type": "stream",
          "name": "stdout",
          "text": [
            "Requirement already satisfied: gutenbergpy in /usr/local/lib/python3.10/dist-packages (0.3.5)\n",
            "Requirement already satisfied: future>=0.15.2 in /usr/local/lib/python3.10/dist-packages (from gutenbergpy) (0.18.3)\n",
            "Requirement already satisfied: httpsproxy-urllib2 in /usr/local/lib/python3.10/dist-packages (from gutenbergpy) (1.0)\n",
            "Requirement already satisfied: lxml>=3.2.0 in /usr/local/lib/python3.10/dist-packages (from gutenbergpy) (4.9.3)\n",
            "Requirement already satisfied: pymongo in /usr/local/lib/python3.10/dist-packages (from gutenbergpy) (4.5.0)\n",
            "Requirement already satisfied: setuptools>=18.5 in /usr/local/lib/python3.10/dist-packages (from gutenbergpy) (67.7.2)\n",
            "Requirement already satisfied: chardet in /usr/local/lib/python3.10/dist-packages (from gutenbergpy) (5.2.0)\n",
            "Requirement already satisfied: dnspython<3.0.0,>=1.16.0 in /usr/local/lib/python3.10/dist-packages (from pymongo->gutenbergpy) (2.4.2)\n"
          ]
        }
      ]
    },
    {
      "cell_type": "code",
      "execution_count": 11,
      "metadata": {
        "id": "fCgsAD7gpK7X"
      },
      "outputs": [],
      "source": [
        "import gutenbergpy\n",
        "import gutenbergpy.textget"
      ]
    },
    {
      "cell_type": "code",
      "source": [
        "def usage_example():\n",
        "    # This gets a book by its gutenberg id number\n",
        "    raw_book = gutenbergpy.textget.get_text_by_id(25297) # with headers\n",
        "    clean_book = gutenbergpy.textget.strip_headers(raw_book) # without headers\n",
        "    return clean_book, raw_book"
      ],
      "metadata": {
        "id": "O5hKi4yGpXgF"
      },
      "execution_count": 12,
      "outputs": []
    },
    {
      "cell_type": "code",
      "source": [
        "cleaned_book, raw_book = usage_example()\n",
        "\n",
        "# Cleaned Book\n",
        "print(f'Example phrase from the cleaned book: {\" \".join(str(cleaned_book[3000:3050]).split(\" \"))}')\n",
        "# Raw Book\n",
        "print(f'Example phrase from the raw book: {\" \".join(str(raw_book[3000:3050]).split(\" \"))}')"
      ],
      "metadata": {
        "colab": {
          "base_uri": "https://localhost:8080/"
        },
        "id": "pkOuRj39peoP",
        "outputId": "9080f5d7-7728-422d-9e58-5e5acb04763e"
      },
      "execution_count": 13,
      "outputs": [
        {
          "output_type": "stream",
          "name": "stdout",
          "text": [
            "Example phrase from the cleaned book: b'\\xe4\\xbe\\xbf\\xe6\\x8c\\x96\\xe5\\x87\\xba\\xe4\\xbb\\x96\\xe7\\x9a\\x84\\xe5\\xbf\\x83\\xe8\\x82\\x9d\\xe4\\xbe\\x86\\xef\\xbc\\x8c\\xe7\\x94\\xa8\\xe6\\xb2\\xb9\\xe7\\x85\\x8e\\xe7\\x82\\x92\\xe4\\xba\\x86\\xe5\\x90\\x83\\xef\\xbc\\x8c\\xe5\\x8f'\n",
            "Example phrase from the raw book: b'\\xa3\\xa1\\xe8\\xaa\\xaa\\xe9\\x81\\x93\\xef\\xbc\\x8c\\xe3\\x80\\x8e\\xe8\\x80\\x81\\xe5\\xad\\x90\\xe5\\x91\\x80\\xef\\xbc\\x81\\xe6\\x88\\x91\\xe8\\xa6\\x81\\xe5\\x92\\xac\\xe4\\xbd\\xa0\\xe5\\xb9\\xbe\\xe5\\x8f\\xa3\\xe7\\xba\\x94\\xe5\\x87\\xba'\n"
          ]
        }
      ]
    },
    {
      "cell_type": "code",
      "source": [
        "import re\n",
        "\n",
        "# Make sure raw_book is a string (assuming it is bytes)\n",
        "if isinstance(raw_book, bytes):\n",
        "    raw_book = raw_book.decode('utf-8')\n",
        "\n",
        "# Extract everything between *** and ***\n",
        "match = re.search(r'\\*\\*\\*(.*?)\\*\\*\\*', raw_book)\n",
        "\n",
        "if match:\n",
        "    extracted_text = match.group(1)\n",
        "    print(\"Extracted text:\", extracted_text)\n",
        "\n",
        "    # Convert the extracted text from hex to utf-8\n",
        "    decoded_string = bytes.fromhex(extracted_text.replace(\"\\\\x\", \"\")).decode('utf-8')\n",
        "    print(\"Decoded string:\", decoded_string)\n"
      ],
      "metadata": {
        "colab": {
          "base_uri": "https://localhost:8080/",
          "height": 245
        },
        "id": "ajeZVDNYp0yB",
        "outputId": "bcaa6074-3726-4bcd-bf20-390ff00a0d76"
      },
      "execution_count": 19,
      "outputs": [
        {
          "output_type": "stream",
          "name": "stdout",
          "text": [
            "Extracted text:  START OF THIS PROJECT GUTENBERG EBOOK KUANG REN RIH JI \n"
          ]
        },
        {
          "output_type": "error",
          "ename": "ValueError",
          "evalue": "ignored",
          "traceback": [
            "\u001b[0;31m---------------------------------------------------------------------------\u001b[0m",
            "\u001b[0;31mValueError\u001b[0m                                Traceback (most recent call last)",
            "\u001b[0;32m<ipython-input-19-781b17ce2a19>\u001b[0m in \u001b[0;36m<cell line: 10>\u001b[0;34m()\u001b[0m\n\u001b[1;32m     13\u001b[0m \u001b[0;34m\u001b[0m\u001b[0m\n\u001b[1;32m     14\u001b[0m     \u001b[0;31m# Convert the extracted text from hex to utf-8\u001b[0m\u001b[0;34m\u001b[0m\u001b[0;34m\u001b[0m\u001b[0m\n\u001b[0;32m---> 15\u001b[0;31m     \u001b[0mdecoded_string\u001b[0m \u001b[0;34m=\u001b[0m \u001b[0mbytes\u001b[0m\u001b[0;34m.\u001b[0m\u001b[0mfromhex\u001b[0m\u001b[0;34m(\u001b[0m\u001b[0mextracted_text\u001b[0m\u001b[0;34m.\u001b[0m\u001b[0mreplace\u001b[0m\u001b[0;34m(\u001b[0m\u001b[0;34m\"\\\\x\"\u001b[0m\u001b[0;34m,\u001b[0m \u001b[0;34m\"\"\u001b[0m\u001b[0;34m)\u001b[0m\u001b[0;34m)\u001b[0m\u001b[0;34m.\u001b[0m\u001b[0mdecode\u001b[0m\u001b[0;34m(\u001b[0m\u001b[0;34m'utf-8'\u001b[0m\u001b[0;34m)\u001b[0m\u001b[0;34m\u001b[0m\u001b[0;34m\u001b[0m\u001b[0m\n\u001b[0m\u001b[1;32m     16\u001b[0m     \u001b[0mprint\u001b[0m\u001b[0;34m(\u001b[0m\u001b[0;34m\"Decoded string:\"\u001b[0m\u001b[0;34m,\u001b[0m \u001b[0mdecoded_string\u001b[0m\u001b[0;34m)\u001b[0m\u001b[0;34m\u001b[0m\u001b[0;34m\u001b[0m\u001b[0m\n",
            "\u001b[0;31mValueError\u001b[0m: non-hexadecimal number found in fromhex() arg at position 1"
          ]
        }
      ]
    },
    {
      "cell_type": "code",
      "source": [
        "extracted_text"
      ],
      "metadata": {
        "colab": {
          "base_uri": "https://localhost:8080/",
          "height": 36
        },
        "id": "MIrIvR4trErf",
        "outputId": "2455c935-61e3-4003-fede-9955a09343c8"
      },
      "execution_count": 20,
      "outputs": [
        {
          "output_type": "execute_result",
          "data": {
            "text/plain": [
              "' START OF THIS PROJECT GUTENBERG EBOOK KUANG REN RIH JI '"
            ],
            "application/vnd.google.colaboratory.intrinsic+json": {
              "type": "string"
            }
          },
          "metadata": {},
          "execution_count": 20
        }
      ]
    },
    {
      "cell_type": "code",
      "source": [
        "decoded_string = bytes.fromhex(raw_book.replace(\"\\\\x\", \"\")).decode('utf-8')\n",
        "print(decoded_string)"
      ],
      "metadata": {
        "colab": {
          "base_uri": "https://localhost:8080/",
          "height": 193
        },
        "id": "9Xm6qVeKqV_y",
        "outputId": "aac43c63-6946-4a48-8b3a-206e48a21fdb"
      },
      "execution_count": 16,
      "outputs": [
        {
          "output_type": "error",
          "ename": "TypeError",
          "evalue": "ignored",
          "traceback": [
            "\u001b[0;31m---------------------------------------------------------------------------\u001b[0m",
            "\u001b[0;31mTypeError\u001b[0m                                 Traceback (most recent call last)",
            "\u001b[0;32m<ipython-input-16-8ca93cd635de>\u001b[0m in \u001b[0;36m<cell line: 1>\u001b[0;34m()\u001b[0m\n\u001b[0;32m----> 1\u001b[0;31m \u001b[0mdecoded_string\u001b[0m \u001b[0;34m=\u001b[0m \u001b[0mbytes\u001b[0m\u001b[0;34m.\u001b[0m\u001b[0mfromhex\u001b[0m\u001b[0;34m(\u001b[0m\u001b[0mraw_book\u001b[0m\u001b[0;34m.\u001b[0m\u001b[0mreplace\u001b[0m\u001b[0;34m(\u001b[0m\u001b[0;34m\"\\\\x\"\u001b[0m\u001b[0;34m,\u001b[0m \u001b[0;34m\"\"\u001b[0m\u001b[0;34m)\u001b[0m\u001b[0;34m)\u001b[0m\u001b[0;34m.\u001b[0m\u001b[0mdecode\u001b[0m\u001b[0;34m(\u001b[0m\u001b[0;34m'utf-8'\u001b[0m\u001b[0;34m)\u001b[0m\u001b[0;34m\u001b[0m\u001b[0;34m\u001b[0m\u001b[0m\n\u001b[0m\u001b[1;32m      2\u001b[0m \u001b[0mprint\u001b[0m\u001b[0;34m(\u001b[0m\u001b[0mdecoded_string\u001b[0m\u001b[0;34m)\u001b[0m\u001b[0;34m\u001b[0m\u001b[0;34m\u001b[0m\u001b[0m\n",
            "\u001b[0;31mTypeError\u001b[0m: a bytes-like object is required, not 'str'"
          ]
        }
      ]
    }
  ]
}
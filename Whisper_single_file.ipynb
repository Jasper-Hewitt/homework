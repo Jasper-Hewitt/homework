{
  "nbformat": 4,
  "nbformat_minor": 0,
  "metadata": {
    "colab": {
      "provenance": [],
      "include_colab_link": true
    },
    "kernelspec": {
      "name": "python3",
      "display_name": "Python 3"
    },
    "language_info": {
      "name": "python"
    },
    "accelerator": "GPU",
    "gpuClass": "standard"
  },
  "cells": [
    {
      "cell_type": "markdown",
      "metadata": {
        "id": "view-in-github",
        "colab_type": "text"
      },
      "source": [
        "<a href=\"https://colab.research.google.com/github/Jasper-Hewitt/homework/blob/main/Whisper_single_file.ipynb\" target=\"_parent\"><img src=\"https://colab.research.google.com/assets/colab-badge.svg\" alt=\"Open In Colab\"/></a>"
      ]
    },
    {
      "cell_type": "code",
      "execution_count": null,
      "metadata": {
        "id": "J67mqDWINl34"
      },
      "outputs": [],
      "source": [
        "!pip install git+https://github.com/openai/whisper.git \n",
        "!sudo apt update && sudo apt install ffmpeg"
      ]
    },
    {
      "cell_type": "code",
      "source": [
        "#from google.colab import drive\n",
        "#drive.mount('/content/drive/')\n"
      ],
      "metadata": {
        "id": "HWsUq_1oPFQ2"
      },
      "execution_count": null,
      "outputs": []
    },
    {
      "cell_type": "code",
      "source": [
        "!whisper h"
      ],
      "metadata": {
        "id": "SE4OBtXczj8a"
      },
      "execution_count": null,
      "outputs": []
    },
    {
      "cell_type": "code",
      "source": [
        "#just directly insert a video .mp4 file\n",
        "!whisper \"/content/Tsai.mp4\" --model large --language Chinese --output_dir \"/content/\""
      ],
      "metadata": {
        "id": "Gk9Xy3GTN_pU",
        "outputId": "9616cf82-98a5-48f7-eaff-21a534b99e6f",
        "colab": {
          "base_uri": "https://localhost:8080/"
        }
      },
      "execution_count": null,
      "outputs": [
        {
          "output_type": "stream",
          "name": "stdout",
          "text": [
            "[00:00.000 --> 00:03.340] 各位南投鄉親朋友 大家好 我是蔡英文\n",
            "[00:03.340 --> 00:09.300] 我要向大家推薦專業 會做事的立委候選人 1 號蔡培慧\n",
            "[00:09.300 --> 00:15.300] 培慧是我參選總統的時候 協助我制定農業政策的優秀學者\n",
            "[00:15.300 --> 00:21.600] 她有專業 很務實 出身農村 始終和我們的南投站在一起\n",
            "[00:21.600 --> 00:26.500] 培慧過去擔任立委 是監督國會團體認證的優質立委\n",
            "[00:26.500 --> 00:30.100] 後來她擔任行政院中部辦公室執行長\n",
            "[00:30.100 --> 00:34.700] 更是全力為南投爭取資源 建設南投\n",
            "[00:34.700 --> 00:40.300] 南投的鄉親好朋友 我們一起顧南投 為南投爭一口氣\n",
            "[00:40.300 --> 00:44.300] 3 月 4 日 南投第二選區立委補選\n",
            "[00:44.300 --> 00:49.700] 最正確的選擇 1 號蔡培慧 南投一定贏\n"
          ]
        }
      ]
    }
  ]
}
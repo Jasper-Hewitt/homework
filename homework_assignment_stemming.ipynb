{
  "nbformat": 4,
  "nbformat_minor": 0,
  "metadata": {
    "colab": {
      "provenance": [],
      "include_colab_link": true
    },
    "kernelspec": {
      "name": "python3",
      "display_name": "Python 3"
    },
    "language_info": {
      "name": "python"
    },
    "accelerator": "GPU",
    "gpuClass": "standard"
  },
  "cells": [
    {
      "cell_type": "markdown",
      "metadata": {
        "id": "view-in-github",
        "colab_type": "text"
      },
      "source": [
        "<a href=\"https://colab.research.google.com/github/Jasper-Hewitt/homework/blob/main/homework_assignment_stemming.ipynb\" target=\"_parent\"><img src=\"https://colab.research.google.com/assets/colab-badge.svg\" alt=\"Open In Colab\"/></a>"
      ]
    },
    {
      "cell_type": "code",
      "execution_count": 3,
      "metadata": {
        "colab": {
          "base_uri": "https://localhost:8080/"
        },
        "id": "xmrp9xc5XKtm",
        "outputId": "99cc1a72-c894-4ef7-8b2b-60fd4dc92ace"
      },
      "outputs": [
        {
          "output_type": "stream",
          "name": "stdout",
          "text": [
            "--2022-11-23 14:13:30--  https://s3.amazonaws.com/assets.datacamp.com/production/course_3629/fake_or_real_news.csv\n",
            "Resolving s3.amazonaws.com (s3.amazonaws.com)... 52.217.109.254, 52.217.79.230, 3.5.20.159, ...\n",
            "Connecting to s3.amazonaws.com (s3.amazonaws.com)|52.217.109.254|:443... connected.\n",
            "HTTP request sent, awaiting response... 200 OK\n",
            "Length: 30696129 (29M) [text/csv]\n",
            "Saving to: ‘fake_or_real_news.csv.1’\n",
            "\n",
            "fake_or_real_news.c 100%[===================>]  29.27M  7.57MB/s    in 3.9s    \n",
            "\n",
            "2022-11-23 14:13:35 (7.57 MB/s) - ‘fake_or_real_news.csv.1’ saved [30696129/30696129]\n",
            "\n"
          ]
        }
      ],
      "source": [
        "! wget https://s3.amazonaws.com/assets.datacamp.com/production/course_3629/fake_or_real_news.csv"
      ]
    },
    {
      "cell_type": "code",
      "source": [
        "import pandas as pd\n",
        "import numpy as np\n",
        "df = pd.read_csv('/content/fake_or_real_news.csv')\n",
        "data_length = 4000\n",
        "df = df.head(data_length)"
      ],
      "metadata": {
        "id": "WnE2i2u-Xm_O"
      },
      "execution_count": 4,
      "outputs": []
    },
    {
      "cell_type": "code",
      "source": [
        "df = df[df['text'].str.len()>10]\n",
        "df = df.reset_index()\n",
        "#conver to lower case\n",
        "df['text'] = df['text'].astype(str).str.lower()"
      ],
      "metadata": {
        "id": "Zgq3P_1KXre9"
      },
      "execution_count": 5,
      "outputs": []
    },
    {
      "cell_type": "code",
      "source": [
        "from nltk.stem.porter import PorterStemmer\n",
        "from nltk.stem.porter import PorterStemmer\n",
        "import nltk\n",
        "nltk.download('punkt')\n",
        "ps=PorterStemmer()"
      ],
      "metadata": {
        "id": "JOWharXa53xL",
        "colab": {
          "base_uri": "https://localhost:8080/"
        },
        "outputId": "95c7fb3a-d0df-4fd9-96bf-6fc10a9060dd"
      },
      "execution_count": 6,
      "outputs": [
        {
          "output_type": "stream",
          "name": "stderr",
          "text": [
            "[nltk_data] Downloading package punkt to /root/nltk_data...\n",
            "[nltk_data]   Unzipping tokenizers/punkt.zip.\n"
          ]
        }
      ]
    },
    {
      "cell_type": "code",
      "source": [
        "#df['text'] = df.apply(lambda row: nltk.word_tokenize(row['text']), axis=1)"
      ],
      "metadata": {
        "id": "7xSkUyHzFiVh"
      },
      "execution_count": 9,
      "outputs": []
    },
    {
      "cell_type": "code",
      "source": [
        "#df['text'] = df['text'].astype(str).str.lower()"
      ],
      "metadata": {
        "id": "mKJZEX6yG0yL"
      },
      "execution_count": 13,
      "outputs": []
    },
    {
      "cell_type": "code",
      "source": [
        "df"
      ],
      "metadata": {
        "colab": {
          "base_uri": "https://localhost:8080/",
          "height": 423
        },
        "id": "YImvayMHGhK_",
        "outputId": "332fd315-486d-4d9a-f9cb-c8686de62c97"
      },
      "execution_count": 7,
      "outputs": [
        {
          "output_type": "execute_result",
          "data": {
            "text/plain": [
              "      index  Unnamed: 0                                              title  \\\n",
              "0         0        8476                       You Can Smell Hillary’s Fear   \n",
              "1         1       10294  Watch The Exact Moment Paul Ryan Committed Pol...   \n",
              "2         2        3608        Kerry to go to Paris in gesture of sympathy   \n",
              "3         3       10142  Bernie supporters on Twitter erupt in anger ag...   \n",
              "4         4         875   The Battle of New York: Why This Primary Matters   \n",
              "...     ...         ...                                                ...   \n",
              "3974   3995        1026  Clinton, under fire for oil and gas donations,...   \n",
              "3975   3996        1459  His rivals are saying the same thing in differ...   \n",
              "3976   3997        5366  The Genocide of Indigenous Peoples in North Am...   \n",
              "3977   3998        9673                                  Checkmating Obama   \n",
              "3978   3999       10498  September New Homes Sales Rise——-Back To 1992 ...   \n",
              "\n",
              "                                                   text label  \n",
              "0     daniel greenfield, a shillman journalism fello...  FAKE  \n",
              "1     google pinterest digg linkedin reddit stumbleu...  FAKE  \n",
              "2     u.s. secretary of state john f. kerry said mon...  REAL  \n",
              "3     — kaydee king (@kaydeeking) november 9, 2016 t...  FAKE  \n",
              "4     it's primary day in new york and front-runners...  REAL  \n",
              "...                                                 ...   ...  \n",
              "3974  clinton lost her temper at an event on thursda...  REAL  \n",
              "3975  chris christie depicts marco rubio as a truant...  REAL  \n",
              "3976  prof. tony hall speaks out on mohawk territory...  FAKE  \n",
              "3977  originally published by the jerusalem post . \\...  FAKE  \n",
              "3978  september new homes sales rise back to 1992 le...  FAKE  \n",
              "\n",
              "[3979 rows x 5 columns]"
            ],
            "text/html": [
              "\n",
              "  <div id=\"df-69128d34-1ecc-4d03-9531-024215b1a50b\">\n",
              "    <div class=\"colab-df-container\">\n",
              "      <div>\n",
              "<style scoped>\n",
              "    .dataframe tbody tr th:only-of-type {\n",
              "        vertical-align: middle;\n",
              "    }\n",
              "\n",
              "    .dataframe tbody tr th {\n",
              "        vertical-align: top;\n",
              "    }\n",
              "\n",
              "    .dataframe thead th {\n",
              "        text-align: right;\n",
              "    }\n",
              "</style>\n",
              "<table border=\"1\" class=\"dataframe\">\n",
              "  <thead>\n",
              "    <tr style=\"text-align: right;\">\n",
              "      <th></th>\n",
              "      <th>index</th>\n",
              "      <th>Unnamed: 0</th>\n",
              "      <th>title</th>\n",
              "      <th>text</th>\n",
              "      <th>label</th>\n",
              "    </tr>\n",
              "  </thead>\n",
              "  <tbody>\n",
              "    <tr>\n",
              "      <th>0</th>\n",
              "      <td>0</td>\n",
              "      <td>8476</td>\n",
              "      <td>You Can Smell Hillary’s Fear</td>\n",
              "      <td>daniel greenfield, a shillman journalism fello...</td>\n",
              "      <td>FAKE</td>\n",
              "    </tr>\n",
              "    <tr>\n",
              "      <th>1</th>\n",
              "      <td>1</td>\n",
              "      <td>10294</td>\n",
              "      <td>Watch The Exact Moment Paul Ryan Committed Pol...</td>\n",
              "      <td>google pinterest digg linkedin reddit stumbleu...</td>\n",
              "      <td>FAKE</td>\n",
              "    </tr>\n",
              "    <tr>\n",
              "      <th>2</th>\n",
              "      <td>2</td>\n",
              "      <td>3608</td>\n",
              "      <td>Kerry to go to Paris in gesture of sympathy</td>\n",
              "      <td>u.s. secretary of state john f. kerry said mon...</td>\n",
              "      <td>REAL</td>\n",
              "    </tr>\n",
              "    <tr>\n",
              "      <th>3</th>\n",
              "      <td>3</td>\n",
              "      <td>10142</td>\n",
              "      <td>Bernie supporters on Twitter erupt in anger ag...</td>\n",
              "      <td>— kaydee king (@kaydeeking) november 9, 2016 t...</td>\n",
              "      <td>FAKE</td>\n",
              "    </tr>\n",
              "    <tr>\n",
              "      <th>4</th>\n",
              "      <td>4</td>\n",
              "      <td>875</td>\n",
              "      <td>The Battle of New York: Why This Primary Matters</td>\n",
              "      <td>it's primary day in new york and front-runners...</td>\n",
              "      <td>REAL</td>\n",
              "    </tr>\n",
              "    <tr>\n",
              "      <th>...</th>\n",
              "      <td>...</td>\n",
              "      <td>...</td>\n",
              "      <td>...</td>\n",
              "      <td>...</td>\n",
              "      <td>...</td>\n",
              "    </tr>\n",
              "    <tr>\n",
              "      <th>3974</th>\n",
              "      <td>3995</td>\n",
              "      <td>1026</td>\n",
              "      <td>Clinton, under fire for oil and gas donations,...</td>\n",
              "      <td>clinton lost her temper at an event on thursda...</td>\n",
              "      <td>REAL</td>\n",
              "    </tr>\n",
              "    <tr>\n",
              "      <th>3975</th>\n",
              "      <td>3996</td>\n",
              "      <td>1459</td>\n",
              "      <td>His rivals are saying the same thing in differ...</td>\n",
              "      <td>chris christie depicts marco rubio as a truant...</td>\n",
              "      <td>REAL</td>\n",
              "    </tr>\n",
              "    <tr>\n",
              "      <th>3976</th>\n",
              "      <td>3997</td>\n",
              "      <td>5366</td>\n",
              "      <td>The Genocide of Indigenous Peoples in North Am...</td>\n",
              "      <td>prof. tony hall speaks out on mohawk territory...</td>\n",
              "      <td>FAKE</td>\n",
              "    </tr>\n",
              "    <tr>\n",
              "      <th>3977</th>\n",
              "      <td>3998</td>\n",
              "      <td>9673</td>\n",
              "      <td>Checkmating Obama</td>\n",
              "      <td>originally published by the jerusalem post . \\...</td>\n",
              "      <td>FAKE</td>\n",
              "    </tr>\n",
              "    <tr>\n",
              "      <th>3978</th>\n",
              "      <td>3999</td>\n",
              "      <td>10498</td>\n",
              "      <td>September New Homes Sales Rise——-Back To 1992 ...</td>\n",
              "      <td>september new homes sales rise back to 1992 le...</td>\n",
              "      <td>FAKE</td>\n",
              "    </tr>\n",
              "  </tbody>\n",
              "</table>\n",
              "<p>3979 rows × 5 columns</p>\n",
              "</div>\n",
              "      <button class=\"colab-df-convert\" onclick=\"convertToInteractive('df-69128d34-1ecc-4d03-9531-024215b1a50b')\"\n",
              "              title=\"Convert this dataframe to an interactive table.\"\n",
              "              style=\"display:none;\">\n",
              "        \n",
              "  <svg xmlns=\"http://www.w3.org/2000/svg\" height=\"24px\"viewBox=\"0 0 24 24\"\n",
              "       width=\"24px\">\n",
              "    <path d=\"M0 0h24v24H0V0z\" fill=\"none\"/>\n",
              "    <path d=\"M18.56 5.44l.94 2.06.94-2.06 2.06-.94-2.06-.94-.94-2.06-.94 2.06-2.06.94zm-11 1L8.5 8.5l.94-2.06 2.06-.94-2.06-.94L8.5 2.5l-.94 2.06-2.06.94zm10 10l.94 2.06.94-2.06 2.06-.94-2.06-.94-.94-2.06-.94 2.06-2.06.94z\"/><path d=\"M17.41 7.96l-1.37-1.37c-.4-.4-.92-.59-1.43-.59-.52 0-1.04.2-1.43.59L10.3 9.45l-7.72 7.72c-.78.78-.78 2.05 0 2.83L4 21.41c.39.39.9.59 1.41.59.51 0 1.02-.2 1.41-.59l7.78-7.78 2.81-2.81c.8-.78.8-2.07 0-2.86zM5.41 20L4 18.59l7.72-7.72 1.47 1.35L5.41 20z\"/>\n",
              "  </svg>\n",
              "      </button>\n",
              "      \n",
              "  <style>\n",
              "    .colab-df-container {\n",
              "      display:flex;\n",
              "      flex-wrap:wrap;\n",
              "      gap: 12px;\n",
              "    }\n",
              "\n",
              "    .colab-df-convert {\n",
              "      background-color: #E8F0FE;\n",
              "      border: none;\n",
              "      border-radius: 50%;\n",
              "      cursor: pointer;\n",
              "      display: none;\n",
              "      fill: #1967D2;\n",
              "      height: 32px;\n",
              "      padding: 0 0 0 0;\n",
              "      width: 32px;\n",
              "    }\n",
              "\n",
              "    .colab-df-convert:hover {\n",
              "      background-color: #E2EBFA;\n",
              "      box-shadow: 0px 1px 2px rgba(60, 64, 67, 0.3), 0px 1px 3px 1px rgba(60, 64, 67, 0.15);\n",
              "      fill: #174EA6;\n",
              "    }\n",
              "\n",
              "    [theme=dark] .colab-df-convert {\n",
              "      background-color: #3B4455;\n",
              "      fill: #D2E3FC;\n",
              "    }\n",
              "\n",
              "    [theme=dark] .colab-df-convert:hover {\n",
              "      background-color: #434B5C;\n",
              "      box-shadow: 0px 1px 3px 1px rgba(0, 0, 0, 0.15);\n",
              "      filter: drop-shadow(0px 1px 2px rgba(0, 0, 0, 0.3));\n",
              "      fill: #FFFFFF;\n",
              "    }\n",
              "  </style>\n",
              "\n",
              "      <script>\n",
              "        const buttonEl =\n",
              "          document.querySelector('#df-69128d34-1ecc-4d03-9531-024215b1a50b button.colab-df-convert');\n",
              "        buttonEl.style.display =\n",
              "          google.colab.kernel.accessAllowed ? 'block' : 'none';\n",
              "\n",
              "        async function convertToInteractive(key) {\n",
              "          const element = document.querySelector('#df-69128d34-1ecc-4d03-9531-024215b1a50b');\n",
              "          const dataTable =\n",
              "            await google.colab.kernel.invokeFunction('convertToInteractive',\n",
              "                                                     [key], {});\n",
              "          if (!dataTable) return;\n",
              "\n",
              "          const docLinkHtml = 'Like what you see? Visit the ' +\n",
              "            '<a target=\"_blank\" href=https://colab.research.google.com/notebooks/data_table.ipynb>data table notebook</a>'\n",
              "            + ' to learn more about interactive tables.';\n",
              "          element.innerHTML = '';\n",
              "          dataTable['output_type'] = 'display_data';\n",
              "          await google.colab.output.renderOutput(dataTable, element);\n",
              "          const docLink = document.createElement('div');\n",
              "          docLink.innerHTML = docLinkHtml;\n",
              "          element.appendChild(docLink);\n",
              "        }\n",
              "      </script>\n",
              "    </div>\n",
              "  </div>\n",
              "  "
            ]
          },
          "metadata": {},
          "execution_count": 7
        }
      ]
    },
    {
      "cell_type": "code",
      "source": [
        "df['text']=df.text.apply(lambda x: [ps.stem(word) for word in x.split()])"
      ],
      "metadata": {
        "id": "fDRJdJV353my"
      },
      "execution_count": 8,
      "outputs": []
    },
    {
      "cell_type": "code",
      "source": [
        "\n",
        "df['text'] = df['text'].astype(str).str.lower()"
      ],
      "metadata": {
        "id": "MWKe1VsFUtwU"
      },
      "execution_count": 9,
      "outputs": []
    },
    {
      "cell_type": "code",
      "source": [],
      "metadata": {
        "id": "Dilcjm2rGrR2"
      },
      "execution_count": null,
      "outputs": []
    },
    {
      "cell_type": "code",
      "source": [
        "#df['text'] = df['text'].astype(str).str.lower()"
      ],
      "metadata": {
        "id": "JJSKv0D3530R"
      },
      "execution_count": 8,
      "outputs": []
    },
    {
      "cell_type": "code",
      "source": [
        "df"
      ],
      "metadata": {
        "colab": {
          "base_uri": "https://localhost:8080/",
          "height": 423
        },
        "id": "JvfRyQf_JR4S",
        "outputId": "5a975f64-5120-4684-aac0-8d8d03b1755e"
      },
      "execution_count": 10,
      "outputs": [
        {
          "output_type": "execute_result",
          "data": {
            "text/plain": [
              "      index  Unnamed: 0                                              title  \\\n",
              "0         0        8476                       You Can Smell Hillary’s Fear   \n",
              "1         1       10294  Watch The Exact Moment Paul Ryan Committed Pol...   \n",
              "2         2        3608        Kerry to go to Paris in gesture of sympathy   \n",
              "3         3       10142  Bernie supporters on Twitter erupt in anger ag...   \n",
              "4         4         875   The Battle of New York: Why This Primary Matters   \n",
              "...     ...         ...                                                ...   \n",
              "3974   3995        1026  Clinton, under fire for oil and gas donations,...   \n",
              "3975   3996        1459  His rivals are saying the same thing in differ...   \n",
              "3976   3997        5366  The Genocide of Indigenous Peoples in North Am...   \n",
              "3977   3998        9673                                  Checkmating Obama   \n",
              "3978   3999       10498  September New Homes Sales Rise——-Back To 1992 ...   \n",
              "\n",
              "                                                   text label  \n",
              "0     ['daniel', 'greenfield,', 'a', 'shillman', 'jo...  FAKE  \n",
              "1     ['googl', 'pinterest', 'digg', 'linkedin', 're...  FAKE  \n",
              "2     ['u.s.', 'secretari', 'of', 'state', 'john', '...  REAL  \n",
              "3     ['—', 'kayde', 'king', '(@kaydeeking)', 'novem...  FAKE  \n",
              "4     [\"it'\", 'primari', 'day', 'in', 'new', 'york',...  REAL  \n",
              "...                                                 ...   ...  \n",
              "3974  ['clinton', 'lost', 'her', 'temper', 'at', 'an...  REAL  \n",
              "3975  ['chri', 'christi', 'depict', 'marco', 'rubio'...  REAL  \n",
              "3976  ['prof.', 'toni', 'hall', 'speak', 'out', 'on'...  FAKE  \n",
              "3977  ['origin', 'publish', 'by', 'the', 'jerusalem'...  FAKE  \n",
              "3978  ['septemb', 'new', 'home', 'sale', 'rise', 'ba...  FAKE  \n",
              "\n",
              "[3979 rows x 5 columns]"
            ],
            "text/html": [
              "\n",
              "  <div id=\"df-c661d1dc-7a2b-435a-abe0-a103d0598881\">\n",
              "    <div class=\"colab-df-container\">\n",
              "      <div>\n",
              "<style scoped>\n",
              "    .dataframe tbody tr th:only-of-type {\n",
              "        vertical-align: middle;\n",
              "    }\n",
              "\n",
              "    .dataframe tbody tr th {\n",
              "        vertical-align: top;\n",
              "    }\n",
              "\n",
              "    .dataframe thead th {\n",
              "        text-align: right;\n",
              "    }\n",
              "</style>\n",
              "<table border=\"1\" class=\"dataframe\">\n",
              "  <thead>\n",
              "    <tr style=\"text-align: right;\">\n",
              "      <th></th>\n",
              "      <th>index</th>\n",
              "      <th>Unnamed: 0</th>\n",
              "      <th>title</th>\n",
              "      <th>text</th>\n",
              "      <th>label</th>\n",
              "    </tr>\n",
              "  </thead>\n",
              "  <tbody>\n",
              "    <tr>\n",
              "      <th>0</th>\n",
              "      <td>0</td>\n",
              "      <td>8476</td>\n",
              "      <td>You Can Smell Hillary’s Fear</td>\n",
              "      <td>['daniel', 'greenfield,', 'a', 'shillman', 'jo...</td>\n",
              "      <td>FAKE</td>\n",
              "    </tr>\n",
              "    <tr>\n",
              "      <th>1</th>\n",
              "      <td>1</td>\n",
              "      <td>10294</td>\n",
              "      <td>Watch The Exact Moment Paul Ryan Committed Pol...</td>\n",
              "      <td>['googl', 'pinterest', 'digg', 'linkedin', 're...</td>\n",
              "      <td>FAKE</td>\n",
              "    </tr>\n",
              "    <tr>\n",
              "      <th>2</th>\n",
              "      <td>2</td>\n",
              "      <td>3608</td>\n",
              "      <td>Kerry to go to Paris in gesture of sympathy</td>\n",
              "      <td>['u.s.', 'secretari', 'of', 'state', 'john', '...</td>\n",
              "      <td>REAL</td>\n",
              "    </tr>\n",
              "    <tr>\n",
              "      <th>3</th>\n",
              "      <td>3</td>\n",
              "      <td>10142</td>\n",
              "      <td>Bernie supporters on Twitter erupt in anger ag...</td>\n",
              "      <td>['—', 'kayde', 'king', '(@kaydeeking)', 'novem...</td>\n",
              "      <td>FAKE</td>\n",
              "    </tr>\n",
              "    <tr>\n",
              "      <th>4</th>\n",
              "      <td>4</td>\n",
              "      <td>875</td>\n",
              "      <td>The Battle of New York: Why This Primary Matters</td>\n",
              "      <td>[\"it'\", 'primari', 'day', 'in', 'new', 'york',...</td>\n",
              "      <td>REAL</td>\n",
              "    </tr>\n",
              "    <tr>\n",
              "      <th>...</th>\n",
              "      <td>...</td>\n",
              "      <td>...</td>\n",
              "      <td>...</td>\n",
              "      <td>...</td>\n",
              "      <td>...</td>\n",
              "    </tr>\n",
              "    <tr>\n",
              "      <th>3974</th>\n",
              "      <td>3995</td>\n",
              "      <td>1026</td>\n",
              "      <td>Clinton, under fire for oil and gas donations,...</td>\n",
              "      <td>['clinton', 'lost', 'her', 'temper', 'at', 'an...</td>\n",
              "      <td>REAL</td>\n",
              "    </tr>\n",
              "    <tr>\n",
              "      <th>3975</th>\n",
              "      <td>3996</td>\n",
              "      <td>1459</td>\n",
              "      <td>His rivals are saying the same thing in differ...</td>\n",
              "      <td>['chri', 'christi', 'depict', 'marco', 'rubio'...</td>\n",
              "      <td>REAL</td>\n",
              "    </tr>\n",
              "    <tr>\n",
              "      <th>3976</th>\n",
              "      <td>3997</td>\n",
              "      <td>5366</td>\n",
              "      <td>The Genocide of Indigenous Peoples in North Am...</td>\n",
              "      <td>['prof.', 'toni', 'hall', 'speak', 'out', 'on'...</td>\n",
              "      <td>FAKE</td>\n",
              "    </tr>\n",
              "    <tr>\n",
              "      <th>3977</th>\n",
              "      <td>3998</td>\n",
              "      <td>9673</td>\n",
              "      <td>Checkmating Obama</td>\n",
              "      <td>['origin', 'publish', 'by', 'the', 'jerusalem'...</td>\n",
              "      <td>FAKE</td>\n",
              "    </tr>\n",
              "    <tr>\n",
              "      <th>3978</th>\n",
              "      <td>3999</td>\n",
              "      <td>10498</td>\n",
              "      <td>September New Homes Sales Rise——-Back To 1992 ...</td>\n",
              "      <td>['septemb', 'new', 'home', 'sale', 'rise', 'ba...</td>\n",
              "      <td>FAKE</td>\n",
              "    </tr>\n",
              "  </tbody>\n",
              "</table>\n",
              "<p>3979 rows × 5 columns</p>\n",
              "</div>\n",
              "      <button class=\"colab-df-convert\" onclick=\"convertToInteractive('df-c661d1dc-7a2b-435a-abe0-a103d0598881')\"\n",
              "              title=\"Convert this dataframe to an interactive table.\"\n",
              "              style=\"display:none;\">\n",
              "        \n",
              "  <svg xmlns=\"http://www.w3.org/2000/svg\" height=\"24px\"viewBox=\"0 0 24 24\"\n",
              "       width=\"24px\">\n",
              "    <path d=\"M0 0h24v24H0V0z\" fill=\"none\"/>\n",
              "    <path d=\"M18.56 5.44l.94 2.06.94-2.06 2.06-.94-2.06-.94-.94-2.06-.94 2.06-2.06.94zm-11 1L8.5 8.5l.94-2.06 2.06-.94-2.06-.94L8.5 2.5l-.94 2.06-2.06.94zm10 10l.94 2.06.94-2.06 2.06-.94-2.06-.94-.94-2.06-.94 2.06-2.06.94z\"/><path d=\"M17.41 7.96l-1.37-1.37c-.4-.4-.92-.59-1.43-.59-.52 0-1.04.2-1.43.59L10.3 9.45l-7.72 7.72c-.78.78-.78 2.05 0 2.83L4 21.41c.39.39.9.59 1.41.59.51 0 1.02-.2 1.41-.59l7.78-7.78 2.81-2.81c.8-.78.8-2.07 0-2.86zM5.41 20L4 18.59l7.72-7.72 1.47 1.35L5.41 20z\"/>\n",
              "  </svg>\n",
              "      </button>\n",
              "      \n",
              "  <style>\n",
              "    .colab-df-container {\n",
              "      display:flex;\n",
              "      flex-wrap:wrap;\n",
              "      gap: 12px;\n",
              "    }\n",
              "\n",
              "    .colab-df-convert {\n",
              "      background-color: #E8F0FE;\n",
              "      border: none;\n",
              "      border-radius: 50%;\n",
              "      cursor: pointer;\n",
              "      display: none;\n",
              "      fill: #1967D2;\n",
              "      height: 32px;\n",
              "      padding: 0 0 0 0;\n",
              "      width: 32px;\n",
              "    }\n",
              "\n",
              "    .colab-df-convert:hover {\n",
              "      background-color: #E2EBFA;\n",
              "      box-shadow: 0px 1px 2px rgba(60, 64, 67, 0.3), 0px 1px 3px 1px rgba(60, 64, 67, 0.15);\n",
              "      fill: #174EA6;\n",
              "    }\n",
              "\n",
              "    [theme=dark] .colab-df-convert {\n",
              "      background-color: #3B4455;\n",
              "      fill: #D2E3FC;\n",
              "    }\n",
              "\n",
              "    [theme=dark] .colab-df-convert:hover {\n",
              "      background-color: #434B5C;\n",
              "      box-shadow: 0px 1px 3px 1px rgba(0, 0, 0, 0.15);\n",
              "      filter: drop-shadow(0px 1px 2px rgba(0, 0, 0, 0.3));\n",
              "      fill: #FFFFFF;\n",
              "    }\n",
              "  </style>\n",
              "\n",
              "      <script>\n",
              "        const buttonEl =\n",
              "          document.querySelector('#df-c661d1dc-7a2b-435a-abe0-a103d0598881 button.colab-df-convert');\n",
              "        buttonEl.style.display =\n",
              "          google.colab.kernel.accessAllowed ? 'block' : 'none';\n",
              "\n",
              "        async function convertToInteractive(key) {\n",
              "          const element = document.querySelector('#df-c661d1dc-7a2b-435a-abe0-a103d0598881');\n",
              "          const dataTable =\n",
              "            await google.colab.kernel.invokeFunction('convertToInteractive',\n",
              "                                                     [key], {});\n",
              "          if (!dataTable) return;\n",
              "\n",
              "          const docLinkHtml = 'Like what you see? Visit the ' +\n",
              "            '<a target=\"_blank\" href=https://colab.research.google.com/notebooks/data_table.ipynb>data table notebook</a>'\n",
              "            + ' to learn more about interactive tables.';\n",
              "          element.innerHTML = '';\n",
              "          dataTable['output_type'] = 'display_data';\n",
              "          await google.colab.output.renderOutput(dataTable, element);\n",
              "          const docLink = document.createElement('div');\n",
              "          docLink.innerHTML = docLinkHtml;\n",
              "          element.appendChild(docLink);\n",
              "        }\n",
              "      </script>\n",
              "    </div>\n",
              "  </div>\n",
              "  "
            ]
          },
          "metadata": {},
          "execution_count": 10
        }
      ]
    },
    {
      "cell_type": "code",
      "source": [
        "#df_text= df['text']#.str.split()\n",
        "type(df['text'])"
      ],
      "metadata": {
        "colab": {
          "base_uri": "https://localhost:8080/"
        },
        "id": "PcA6vXffEqdL",
        "outputId": "c84bfb96-4edc-482f-8462-b314c3074292"
      },
      "execution_count": 11,
      "outputs": [
        {
          "output_type": "execute_result",
          "data": {
            "text/plain": [
              "pandas.core.series.Series"
            ]
          },
          "metadata": {},
          "execution_count": 11
        }
      ]
    },
    {
      "cell_type": "code",
      "source": [
        "from sklearn.feature_extraction.text import TfidfVectorizer\n",
        "from sklearn.model_selection import train_test_split"
      ],
      "metadata": {
        "id": "5x2e7Ysd-FdA"
      },
      "execution_count": 12,
      "outputs": []
    },
    {
      "cell_type": "code",
      "source": [
        "# DataFlair - Splitting the dataset\n",
        "x_train, x_test, y_train, y_test = train_test_split(df['text'], df['label'], test_size=0.33)"
      ],
      "metadata": {
        "id": "BFaXW8So-G1C"
      },
      "execution_count": 13,
      "outputs": []
    },
    {
      "cell_type": "code",
      "source": [
        "from sklearn import svm\n",
        "from sklearn.metrics import accuracy_score\n",
        "#DataFlair - Initialize a TfidfVectorizer\n",
        "tfidf_vectorizer=TfidfVectorizer(stop_words='english', max_df=0.6)\n",
        "#DataFlair - Fit and transform train set, transform test set\n",
        "tfidf_train=tfidf_vectorizer.fit_transform(x_train) \n",
        "tfidf_test=tfidf_vectorizer.transform(x_test)"
      ],
      "metadata": {
        "id": "SI3eV2ze-HAP"
      },
      "execution_count": 16,
      "outputs": []
    },
    {
      "cell_type": "code",
      "source": [
        "clf = svm.SVC(kernel='rbf')\n",
        "clf.fit(tfidf_train, y_train)\n",
        "y_pred = clf.predict(tfidf_test)\n",
        "accuracy_score(y_test, y_pred)"
      ],
      "metadata": {
        "colab": {
          "base_uri": "https://localhost:8080/"
        },
        "id": "4-XtmLJN-_py",
        "outputId": "e4e5e83a-f1d5-4b13-85a0-045ca094471f"
      },
      "execution_count": 17,
      "outputs": [
        {
          "output_type": "execute_result",
          "data": {
            "text/plain": [
              "0.9079147640791476"
            ]
          },
          "metadata": {},
          "execution_count": 17
        }
      ]
    },
    {
      "cell_type": "code",
      "source": [],
      "metadata": {
        "id": "Pgdks9KqYdHo"
      },
      "execution_count": null,
      "outputs": []
    },
    {
      "cell_type": "code",
      "source": [],
      "metadata": {
        "id": "qWCpGbc_YdPG"
      },
      "execution_count": null,
      "outputs": []
    },
    {
      "cell_type": "code",
      "source": [],
      "metadata": {
        "id": "MAVU-1VKYdRc"
      },
      "execution_count": null,
      "outputs": []
    },
    {
      "cell_type": "code",
      "source": [],
      "metadata": {
        "id": "xnGMi--HYdTy"
      },
      "execution_count": null,
      "outputs": []
    },
    {
      "cell_type": "code",
      "source": [],
      "metadata": {
        "id": "GXChSzeVYdWJ"
      },
      "execution_count": null,
      "outputs": []
    },
    {
      "cell_type": "code",
      "source": [],
      "metadata": {
        "id": "GhG1l25AYdYO"
      },
      "execution_count": null,
      "outputs": []
    },
    {
      "cell_type": "code",
      "source": [],
      "metadata": {
        "id": "5LL8qb01YdaT"
      },
      "execution_count": null,
      "outputs": []
    },
    {
      "cell_type": "code",
      "source": [],
      "metadata": {
        "id": "fVmqFDhBYdcp"
      },
      "execution_count": null,
      "outputs": []
    },
    {
      "cell_type": "markdown",
      "source": [
        "# Ok SO I GUESS THIS IS WHERE IT ENDS?"
      ],
      "metadata": {
        "id": "pyhVHcmlX6s_"
      }
    },
    {
      "cell_type": "code",
      "source": [
        "#and now without stemming!!!\n",
        "import pandas as pd\n",
        "import numpy as np\n",
        "df2 = pd.read_csv('/content/fake_or_real_news.csv')\n",
        "data_length = 4000\n",
        "df2 = df.head(data_length)\n",
        "\n",
        "\n",
        "\n",
        "\n",
        "\n",
        "#df['text_string_stem'] = df['text_token'].apply(porter.stem)#(token)(wordnet_lem.lemmatize)"
      ],
      "metadata": {
        "colab": {
          "base_uri": "https://localhost:8080/",
          "height": 424
        },
        "id": "ZcLeC8PyzZAT",
        "outputId": "ddb0ef3b-fc8f-483d-9301-09f6be74f110"
      },
      "execution_count": null,
      "outputs": [
        {
          "output_type": "execute_result",
          "data": {
            "text/plain": [
              "      Unnamed: 0                                              title  \\\n",
              "0           8476                       You Can Smell Hillary’s Fear   \n",
              "1          10294  Watch The Exact Moment Paul Ryan Committed Pol...   \n",
              "2           3608        Kerry to go to Paris in gesture of sympathy   \n",
              "3          10142  Bernie supporters on Twitter erupt in anger ag...   \n",
              "4            875   The Battle of New York: Why This Primary Matters   \n",
              "...          ...                                                ...   \n",
              "3995        1026  Clinton, under fire for oil and gas donations,...   \n",
              "3996        1459  His rivals are saying the same thing in differ...   \n",
              "3997        5366  The Genocide of Indigenous Peoples in North Am...   \n",
              "3998        9673                                  Checkmating Obama   \n",
              "3999       10498  September New Homes Sales Rise——-Back To 1992 ...   \n",
              "\n",
              "                                                   text label  \n",
              "0     ['daniel', 'greenfield,', 'a', 'shillman', 'jo...  FAKE  \n",
              "1     ['googl', 'pinterest', 'digg', 'linkedin', 're...  FAKE  \n",
              "2     ['u.s.', 'secretari', 'of', 'state', 'john', '...  REAL  \n",
              "3     ['—', 'kayde', 'king', '(@kaydeeking)', 'novem...  FAKE  \n",
              "4     [\"it'\", 'primari', 'day', 'in', 'new', 'york',...  REAL  \n",
              "...                                                 ...   ...  \n",
              "3995  ['clinton', 'lost', 'her', 'temper', 'at', 'an...  REAL  \n",
              "3996  ['chri', 'christi', 'depict', 'marco', 'rubio'...  REAL  \n",
              "3997  ['prof.', 'toni', 'hall', 'speak', 'out', 'on'...  FAKE  \n",
              "3998  ['origin', 'publish', 'by', 'the', 'jerusalem'...  FAKE  \n",
              "3999  ['septemb', 'new', 'home', 'sale', 'rise', 'ba...  FAKE  \n",
              "\n",
              "[3979 rows x 4 columns]"
            ],
            "text/html": [
              "\n",
              "  <div id=\"df-cd8ab3b4-7803-4f0f-8d86-dcfb6689e748\">\n",
              "    <div class=\"colab-df-container\">\n",
              "      <div>\n",
              "<style scoped>\n",
              "    .dataframe tbody tr th:only-of-type {\n",
              "        vertical-align: middle;\n",
              "    }\n",
              "\n",
              "    .dataframe tbody tr th {\n",
              "        vertical-align: top;\n",
              "    }\n",
              "\n",
              "    .dataframe thead th {\n",
              "        text-align: right;\n",
              "    }\n",
              "</style>\n",
              "<table border=\"1\" class=\"dataframe\">\n",
              "  <thead>\n",
              "    <tr style=\"text-align: right;\">\n",
              "      <th></th>\n",
              "      <th>Unnamed: 0</th>\n",
              "      <th>title</th>\n",
              "      <th>text</th>\n",
              "      <th>label</th>\n",
              "    </tr>\n",
              "  </thead>\n",
              "  <tbody>\n",
              "    <tr>\n",
              "      <th>0</th>\n",
              "      <td>8476</td>\n",
              "      <td>You Can Smell Hillary’s Fear</td>\n",
              "      <td>['daniel', 'greenfield,', 'a', 'shillman', 'jo...</td>\n",
              "      <td>FAKE</td>\n",
              "    </tr>\n",
              "    <tr>\n",
              "      <th>1</th>\n",
              "      <td>10294</td>\n",
              "      <td>Watch The Exact Moment Paul Ryan Committed Pol...</td>\n",
              "      <td>['googl', 'pinterest', 'digg', 'linkedin', 're...</td>\n",
              "      <td>FAKE</td>\n",
              "    </tr>\n",
              "    <tr>\n",
              "      <th>2</th>\n",
              "      <td>3608</td>\n",
              "      <td>Kerry to go to Paris in gesture of sympathy</td>\n",
              "      <td>['u.s.', 'secretari', 'of', 'state', 'john', '...</td>\n",
              "      <td>REAL</td>\n",
              "    </tr>\n",
              "    <tr>\n",
              "      <th>3</th>\n",
              "      <td>10142</td>\n",
              "      <td>Bernie supporters on Twitter erupt in anger ag...</td>\n",
              "      <td>['—', 'kayde', 'king', '(@kaydeeking)', 'novem...</td>\n",
              "      <td>FAKE</td>\n",
              "    </tr>\n",
              "    <tr>\n",
              "      <th>4</th>\n",
              "      <td>875</td>\n",
              "      <td>The Battle of New York: Why This Primary Matters</td>\n",
              "      <td>[\"it'\", 'primari', 'day', 'in', 'new', 'york',...</td>\n",
              "      <td>REAL</td>\n",
              "    </tr>\n",
              "    <tr>\n",
              "      <th>...</th>\n",
              "      <td>...</td>\n",
              "      <td>...</td>\n",
              "      <td>...</td>\n",
              "      <td>...</td>\n",
              "    </tr>\n",
              "    <tr>\n",
              "      <th>3995</th>\n",
              "      <td>1026</td>\n",
              "      <td>Clinton, under fire for oil and gas donations,...</td>\n",
              "      <td>['clinton', 'lost', 'her', 'temper', 'at', 'an...</td>\n",
              "      <td>REAL</td>\n",
              "    </tr>\n",
              "    <tr>\n",
              "      <th>3996</th>\n",
              "      <td>1459</td>\n",
              "      <td>His rivals are saying the same thing in differ...</td>\n",
              "      <td>['chri', 'christi', 'depict', 'marco', 'rubio'...</td>\n",
              "      <td>REAL</td>\n",
              "    </tr>\n",
              "    <tr>\n",
              "      <th>3997</th>\n",
              "      <td>5366</td>\n",
              "      <td>The Genocide of Indigenous Peoples in North Am...</td>\n",
              "      <td>['prof.', 'toni', 'hall', 'speak', 'out', 'on'...</td>\n",
              "      <td>FAKE</td>\n",
              "    </tr>\n",
              "    <tr>\n",
              "      <th>3998</th>\n",
              "      <td>9673</td>\n",
              "      <td>Checkmating Obama</td>\n",
              "      <td>['origin', 'publish', 'by', 'the', 'jerusalem'...</td>\n",
              "      <td>FAKE</td>\n",
              "    </tr>\n",
              "    <tr>\n",
              "      <th>3999</th>\n",
              "      <td>10498</td>\n",
              "      <td>September New Homes Sales Rise——-Back To 1992 ...</td>\n",
              "      <td>['septemb', 'new', 'home', 'sale', 'rise', 'ba...</td>\n",
              "      <td>FAKE</td>\n",
              "    </tr>\n",
              "  </tbody>\n",
              "</table>\n",
              "<p>3979 rows × 4 columns</p>\n",
              "</div>\n",
              "      <button class=\"colab-df-convert\" onclick=\"convertToInteractive('df-cd8ab3b4-7803-4f0f-8d86-dcfb6689e748')\"\n",
              "              title=\"Convert this dataframe to an interactive table.\"\n",
              "              style=\"display:none;\">\n",
              "        \n",
              "  <svg xmlns=\"http://www.w3.org/2000/svg\" height=\"24px\"viewBox=\"0 0 24 24\"\n",
              "       width=\"24px\">\n",
              "    <path d=\"M0 0h24v24H0V0z\" fill=\"none\"/>\n",
              "    <path d=\"M18.56 5.44l.94 2.06.94-2.06 2.06-.94-2.06-.94-.94-2.06-.94 2.06-2.06.94zm-11 1L8.5 8.5l.94-2.06 2.06-.94-2.06-.94L8.5 2.5l-.94 2.06-2.06.94zm10 10l.94 2.06.94-2.06 2.06-.94-2.06-.94-.94-2.06-.94 2.06-2.06.94z\"/><path d=\"M17.41 7.96l-1.37-1.37c-.4-.4-.92-.59-1.43-.59-.52 0-1.04.2-1.43.59L10.3 9.45l-7.72 7.72c-.78.78-.78 2.05 0 2.83L4 21.41c.39.39.9.59 1.41.59.51 0 1.02-.2 1.41-.59l7.78-7.78 2.81-2.81c.8-.78.8-2.07 0-2.86zM5.41 20L4 18.59l7.72-7.72 1.47 1.35L5.41 20z\"/>\n",
              "  </svg>\n",
              "      </button>\n",
              "      \n",
              "  <style>\n",
              "    .colab-df-container {\n",
              "      display:flex;\n",
              "      flex-wrap:wrap;\n",
              "      gap: 12px;\n",
              "    }\n",
              "\n",
              "    .colab-df-convert {\n",
              "      background-color: #E8F0FE;\n",
              "      border: none;\n",
              "      border-radius: 50%;\n",
              "      cursor: pointer;\n",
              "      display: none;\n",
              "      fill: #1967D2;\n",
              "      height: 32px;\n",
              "      padding: 0 0 0 0;\n",
              "      width: 32px;\n",
              "    }\n",
              "\n",
              "    .colab-df-convert:hover {\n",
              "      background-color: #E2EBFA;\n",
              "      box-shadow: 0px 1px 2px rgba(60, 64, 67, 0.3), 0px 1px 3px 1px rgba(60, 64, 67, 0.15);\n",
              "      fill: #174EA6;\n",
              "    }\n",
              "\n",
              "    [theme=dark] .colab-df-convert {\n",
              "      background-color: #3B4455;\n",
              "      fill: #D2E3FC;\n",
              "    }\n",
              "\n",
              "    [theme=dark] .colab-df-convert:hover {\n",
              "      background-color: #434B5C;\n",
              "      box-shadow: 0px 1px 3px 1px rgba(0, 0, 0, 0.15);\n",
              "      filter: drop-shadow(0px 1px 2px rgba(0, 0, 0, 0.3));\n",
              "      fill: #FFFFFF;\n",
              "    }\n",
              "  </style>\n",
              "\n",
              "      <script>\n",
              "        const buttonEl =\n",
              "          document.querySelector('#df-cd8ab3b4-7803-4f0f-8d86-dcfb6689e748 button.colab-df-convert');\n",
              "        buttonEl.style.display =\n",
              "          google.colab.kernel.accessAllowed ? 'block' : 'none';\n",
              "\n",
              "        async function convertToInteractive(key) {\n",
              "          const element = document.querySelector('#df-cd8ab3b4-7803-4f0f-8d86-dcfb6689e748');\n",
              "          const dataTable =\n",
              "            await google.colab.kernel.invokeFunction('convertToInteractive',\n",
              "                                                     [key], {});\n",
              "          if (!dataTable) return;\n",
              "\n",
              "          const docLinkHtml = 'Like what you see? Visit the ' +\n",
              "            '<a target=\"_blank\" href=https://colab.research.google.com/notebooks/data_table.ipynb>data table notebook</a>'\n",
              "            + ' to learn more about interactive tables.';\n",
              "          element.innerHTML = '';\n",
              "          dataTable['output_type'] = 'display_data';\n",
              "          await google.colab.output.renderOutput(dataTable, element);\n",
              "          const docLink = document.createElement('div');\n",
              "          docLink.innerHTML = docLinkHtml;\n",
              "          element.appendChild(docLink);\n",
              "        }\n",
              "      </script>\n",
              "    </div>\n",
              "  </div>\n",
              "  "
            ]
          },
          "metadata": {},
          "execution_count": 14
        }
      ]
    },
    {
      "cell_type": "code",
      "source": [
        "df_text= df['text']#.str.split()\n",
        "df_text"
      ],
      "metadata": {
        "id": "0SlKfqyyXvcn"
      },
      "execution_count": null,
      "outputs": []
    },
    {
      "cell_type": "code",
      "source": [
        "#other, more proper way to do it?\n",
        "import nltk\n",
        "text11='Daniel Greenfield, a Shillman Journalism Fellow at the Freedom Center, is a New York writer focusing on radical Islam. In the final stretch of the election, Hillary Rodham Clinton has gone to war with the FBI. The word “unprecedented” has been thrown around so often this election that it ought to be retired. But it’s still unprecedented for the nominee of a major political party to go war with the FBI. But that’s exactly what Hillary and her people have done'\n",
        "tokenizer = nltk.tokenize.WhitespaceTokenizer()\n",
        "tokens = tokenizer.tokenize(text11)\n",
        "tokens"
      ],
      "metadata": {
        "id": "75qqv13C8eRo"
      },
      "execution_count": null,
      "outputs": []
    },
    {
      "cell_type": "code",
      "source": [
        "stemmed_tokens = [porter.stem(token) for token in tokens]\n",
        "stemmed_tokens"
      ],
      "metadata": {
        "id": "Lm-LltZh9VKK"
      },
      "execution_count": null,
      "outputs": []
    },
    {
      "cell_type": "code",
      "source": [
        "porter.stem(tokens)"
      ],
      "metadata": {
        "id": "WgM1ojXE8vKu"
      },
      "execution_count": null,
      "outputs": []
    },
    {
      "cell_type": "code",
      "source": [
        "import pandas as pd\n",
        "import nltk\n",
        "nltk.download('punkt')"
      ],
      "metadata": {
        "id": "G-oGRLhhXzCj"
      },
      "execution_count": null,
      "outputs": []
    },
    {
      "cell_type": "code",
      "source": [
        "#convert to string\n",
        "df=df.applymap(str)\n"
      ],
      "metadata": {
        "id": "0GLO-xqtX19x"
      },
      "execution_count": null,
      "outputs": []
    },
    {
      "cell_type": "code",
      "source": [
        "df_text = df['text']\n",
        "type(df_text)"
      ],
      "metadata": {
        "id": "1ZTq-7RXoHAI"
      },
      "execution_count": null,
      "outputs": []
    },
    {
      "cell_type": "code",
      "source": [
        "tokens = [nltk.word_tokenize(text) for text in df_text] #df['text']]\n",
        "type(tokens)"
      ],
      "metadata": {
        "id": "PcMXLQ5OX4cY"
      },
      "execution_count": null,
      "outputs": []
    },
    {
      "cell_type": "code",
      "source": [
        "tokens"
      ],
      "metadata": {
        "id": "KhN349qGYAgw"
      },
      "execution_count": null,
      "outputs": []
    },
    {
      "cell_type": "code",
      "source": [],
      "metadata": {
        "id": "QLt92iO9qRE3"
      },
      "execution_count": null,
      "outputs": []
    },
    {
      "cell_type": "code",
      "source": [
        "for str in plurals:\n",
        "  singles = [stemmer.stem(plurals) for str in plurals] \n",
        "singles"
      ],
      "metadata": {
        "id": "jmLDh9Ug1See"
      },
      "execution_count": null,
      "outputs": []
    },
    {
      "cell_type": "code",
      "source": [
        "from nltk.stem import PorterStemmer\n",
        "porter = PorterStemmer()  "
      ],
      "metadata": {
        "id": "5ytQDYszmNwQ"
      },
      "execution_count": null,
      "outputs": []
    },
    {
      "cell_type": "code",
      "source": [
        "stemmer = nltk.stem.PorterStemmer()\n",
        "\" \".join(stemmer.stem(token) for token in tokens)"
      ],
      "metadata": {
        "id": "hRTFSMBxp4kP"
      },
      "execution_count": null,
      "outputs": []
    },
    {
      "cell_type": "code",
      "source": [
        "#stemming is \n",
        "stemmed_tokens = [porter.stem(token) for token in tokens] #we call this line a one shot for loop\n",
        "stemmed_tokens\n",
        "\n",
        "#stemmer = nltk.stem.PorterStemmer()\n",
        "#\" \".join(stemmer.stem(token) for token in tokens)"
      ],
      "metadata": {
        "id": "qJpWKcd5lMN3"
      },
      "execution_count": null,
      "outputs": []
    }
  ]
}
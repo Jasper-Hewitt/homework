{
  "nbformat": 4,
  "nbformat_minor": 0,
  "metadata": {
    "colab": {
      "provenance": [],
      "include_colab_link": true
    },
    "kernelspec": {
      "name": "python3",
      "display_name": "Python 3"
    },
    "language_info": {
      "name": "python"
    },
    "accelerator": "GPU",
    "gpuClass": "standard"
  },
  "cells": [
    {
      "cell_type": "markdown",
      "metadata": {
        "id": "view-in-github",
        "colab_type": "text"
      },
      "source": [
        "<a href=\"https://colab.research.google.com/github/Jasper-Hewitt/homework/blob/main/homework_stemmed_fake_news_detection.ipynb\" target=\"_parent\"><img src=\"https://colab.research.google.com/assets/colab-badge.svg\" alt=\"Open In Colab\"/></a>"
      ]
    },
    {
      "cell_type": "markdown",
      "source": [
        "# 01 stemmed fake news detection\n"
      ],
      "metadata": {
        "id": "uhKyIKz06Q5I"
      }
    },
    {
      "cell_type": "code",
      "execution_count": 18,
      "metadata": {
        "colab": {
          "base_uri": "https://localhost:8080/"
        },
        "id": "xmrp9xc5XKtm",
        "outputId": "201441f1-bd58-4fe2-d02e-8ed681f0f04e"
      },
      "outputs": [
        {
          "output_type": "stream",
          "name": "stdout",
          "text": [
            "--2022-11-23 14:35:37--  https://s3.amazonaws.com/assets.datacamp.com/production/course_3629/fake_or_real_news.csv\n",
            "Resolving s3.amazonaws.com (s3.amazonaws.com)... 52.216.179.205, 54.231.233.24, 52.216.79.22, ...\n",
            "Connecting to s3.amazonaws.com (s3.amazonaws.com)|52.216.179.205|:443... connected.\n",
            "HTTP request sent, awaiting response... 200 OK\n",
            "Length: 30696129 (29M) [text/csv]\n",
            "Saving to: ‘fake_or_real_news.csv.2’\n",
            "\n",
            "fake_or_real_news.c 100%[===================>]  29.27M  8.25MB/s    in 3.5s    \n",
            "\n",
            "2022-11-23 14:35:41 (8.25 MB/s) - ‘fake_or_real_news.csv.2’ saved [30696129/30696129]\n",
            "\n"
          ]
        }
      ],
      "source": [
        "! wget https://s3.amazonaws.com/assets.datacamp.com/production/course_3629/fake_or_real_news.csv"
      ]
    },
    {
      "cell_type": "code",
      "source": [
        "import pandas as pd\n",
        "import numpy as np\n",
        "df = pd.read_csv('/content/fake_or_real_news.csv')\n",
        "data_length = 4000\n",
        "df = df.head(data_length)"
      ],
      "metadata": {
        "id": "WnE2i2u-Xm_O"
      },
      "execution_count": 19,
      "outputs": []
    },
    {
      "cell_type": "code",
      "source": [
        "df = df[df['text'].str.len()>10]\n",
        "df = df.reset_index()\n",
        "#conver to lower case\n",
        "df['text'] = df['text'].astype(str).str.lower()"
      ],
      "metadata": {
        "id": "Zgq3P_1KXre9"
      },
      "execution_count": 20,
      "outputs": []
    },
    {
      "cell_type": "code",
      "source": [
        "from nltk.stem.porter import PorterStemmer\n",
        "from nltk.stem.porter import PorterStemmer\n",
        "import nltk\n",
        "nltk.download('punkt')\n",
        "ps=PorterStemmer()"
      ],
      "metadata": {
        "id": "JOWharXa53xL",
        "colab": {
          "base_uri": "https://localhost:8080/"
        },
        "outputId": "a0c480d0-7690-4922-8e90-674ddeff8ee2"
      },
      "execution_count": 21,
      "outputs": [
        {
          "output_type": "stream",
          "name": "stderr",
          "text": [
            "[nltk_data] Downloading package punkt to /root/nltk_data...\n",
            "[nltk_data]   Package punkt is already up-to-date!\n"
          ]
        }
      ]
    },
    {
      "cell_type": "code",
      "source": [
        "df['text']=df.text.apply(lambda x: [ps.stem(word) for word in x.split()])"
      ],
      "metadata": {
        "id": "fDRJdJV353my"
      },
      "execution_count": 22,
      "outputs": []
    },
    {
      "cell_type": "code",
      "source": [
        "df['text'] = df['text'].astype(str).str.lower()"
      ],
      "metadata": {
        "id": "MWKe1VsFUtwU"
      },
      "execution_count": 9,
      "outputs": []
    },
    {
      "cell_type": "code",
      "source": [
        "df"
      ],
      "metadata": {
        "colab": {
          "base_uri": "https://localhost:8080/",
          "height": 21103
        },
        "id": "JvfRyQf_JR4S",
        "outputId": "5a975f64-5120-4684-aac0-8d8d03b1755e"
      },
      "execution_count": 10,
      "outputs": [
        {
          "output_type": "execute_result",
          "data": {
            "text/plain": [
              "      index  Unnamed: 0                                              title  \\\n",
              "0         0        8476                       You Can Smell Hillary’s Fear   \n",
              "1         1       10294  Watch The Exact Moment Paul Ryan Committed Pol...   \n",
              "2         2        3608        Kerry to go to Paris in gesture of sympathy   \n",
              "3         3       10142  Bernie supporters on Twitter erupt in anger ag...   \n",
              "4         4         875   The Battle of New York: Why This Primary Matters   \n",
              "...     ...         ...                                                ...   \n",
              "3974   3995        1026  Clinton, under fire for oil and gas donations,...   \n",
              "3975   3996        1459  His rivals are saying the same thing in differ...   \n",
              "3976   3997        5366  The Genocide of Indigenous Peoples in North Am...   \n",
              "3977   3998        9673                                  Checkmating Obama   \n",
              "3978   3999       10498  September New Homes Sales Rise——-Back To 1992 ...   \n",
              "\n",
              "                                                   text label  \n",
              "0     ['daniel', 'greenfield,', 'a', 'shillman', 'jo...  FAKE  \n",
              "1     ['googl', 'pinterest', 'digg', 'linkedin', 're...  FAKE  \n",
              "2     ['u.s.', 'secretari', 'of', 'state', 'john', '...  REAL  \n",
              "3     ['—', 'kayde', 'king', '(@kaydeeking)', 'novem...  FAKE  \n",
              "4     [\"it'\", 'primari', 'day', 'in', 'new', 'york',...  REAL  \n",
              "...                                                 ...   ...  \n",
              "3974  ['clinton', 'lost', 'her', 'temper', 'at', 'an...  REAL  \n",
              "3975  ['chri', 'christi', 'depict', 'marco', 'rubio'...  REAL  \n",
              "3976  ['prof.', 'toni', 'hall', 'speak', 'out', 'on'...  FAKE  \n",
              "3977  ['origin', 'publish', 'by', 'the', 'jerusalem'...  FAKE  \n",
              "3978  ['septemb', 'new', 'home', 'sale', 'rise', 'ba...  FAKE  \n",
              "\n",
              "[3979 rows x 5 columns]"
            ],
            "text/html": [
              "\n",
              "  <div id=\"df-c661d1dc-7a2b-435a-abe0-a103d0598881\">\n",
              "    <div class=\"colab-df-container\">\n",
              "      <div>\n",
              "<style scoped>\n",
              "    .dataframe tbody tr th:only-of-type {\n",
              "        vertical-align: middle;\n",
              "    }\n",
              "\n",
              "    .dataframe tbody tr th {\n",
              "        vertical-align: top;\n",
              "    }\n",
              "\n",
              "    .dataframe thead th {\n",
              "        text-align: right;\n",
              "    }\n",
              "</style>\n",
              "<table border=\"1\" class=\"dataframe\">\n",
              "  <thead>\n",
              "    <tr style=\"text-align: right;\">\n",
              "      <th></th>\n",
              "      <th>index</th>\n",
              "      <th>Unnamed: 0</th>\n",
              "      <th>title</th>\n",
              "      <th>text</th>\n",
              "      <th>label</th>\n",
              "    </tr>\n",
              "  </thead>\n",
              "  <tbody>\n",
              "    <tr>\n",
              "      <th>0</th>\n",
              "      <td>0</td>\n",
              "      <td>8476</td>\n",
              "      <td>You Can Smell Hillary’s Fear</td>\n",
              "      <td>['daniel', 'greenfield,', 'a', 'shillman', 'jo...</td>\n",
              "      <td>FAKE</td>\n",
              "    </tr>\n",
              "    <tr>\n",
              "      <th>1</th>\n",
              "      <td>1</td>\n",
              "      <td>10294</td>\n",
              "      <td>Watch The Exact Moment Paul Ryan Committed Pol...</td>\n",
              "      <td>['googl', 'pinterest', 'digg', 'linkedin', 're...</td>\n",
              "      <td>FAKE</td>\n",
              "    </tr>\n",
              "    <tr>\n",
              "      <th>2</th>\n",
              "      <td>2</td>\n",
              "      <td>3608</td>\n",
              "      <td>Kerry to go to Paris in gesture of sympathy</td>\n",
              "      <td>['u.s.', 'secretari', 'of', 'state', 'john', '...</td>\n",
              "      <td>REAL</td>\n",
              "    </tr>\n",
              "    <tr>\n",
              "      <th>3</th>\n",
              "      <td>3</td>\n",
              "      <td>10142</td>\n",
              "      <td>Bernie supporters on Twitter erupt in anger ag...</td>\n",
              "      <td>['—', 'kayde', 'king', '(@kaydeeking)', 'novem...</td>\n",
              "      <td>FAKE</td>\n",
              "    </tr>\n",
              "    <tr>\n",
              "      <th>4</th>\n",
              "      <td>4</td>\n",
              "      <td>875</td>\n",
              "      <td>The Battle of New York: Why This Primary Matters</td>\n",
              "      <td>[\"it'\", 'primari', 'day', 'in', 'new', 'york',...</td>\n",
              "      <td>REAL</td>\n",
              "    </tr>\n",
              "    <tr>\n",
              "      <th>...</th>\n",
              "      <td>...</td>\n",
              "      <td>...</td>\n",
              "      <td>...</td>\n",
              "      <td>...</td>\n",
              "      <td>...</td>\n",
              "    </tr>\n",
              "    <tr>\n",
              "      <th>3974</th>\n",
              "      <td>3995</td>\n",
              "      <td>1026</td>\n",
              "      <td>Clinton, under fire for oil and gas donations,...</td>\n",
              "      <td>['clinton', 'lost', 'her', 'temper', 'at', 'an...</td>\n",
              "      <td>REAL</td>\n",
              "    </tr>\n",
              "    <tr>\n",
              "      <th>3975</th>\n",
              "      <td>3996</td>\n",
              "      <td>1459</td>\n",
              "      <td>His rivals are saying the same thing in differ...</td>\n",
              "      <td>['chri', 'christi', 'depict', 'marco', 'rubio'...</td>\n",
              "      <td>REAL</td>\n",
              "    </tr>\n",
              "    <tr>\n",
              "      <th>3976</th>\n",
              "      <td>3997</td>\n",
              "      <td>5366</td>\n",
              "      <td>The Genocide of Indigenous Peoples in North Am...</td>\n",
              "      <td>['prof.', 'toni', 'hall', 'speak', 'out', 'on'...</td>\n",
              "      <td>FAKE</td>\n",
              "    </tr>\n",
              "    <tr>\n",
              "      <th>3977</th>\n",
              "      <td>3998</td>\n",
              "      <td>9673</td>\n",
              "      <td>Checkmating Obama</td>\n",
              "      <td>['origin', 'publish', 'by', 'the', 'jerusalem'...</td>\n",
              "      <td>FAKE</td>\n",
              "    </tr>\n",
              "    <tr>\n",
              "      <th>3978</th>\n",
              "      <td>3999</td>\n",
              "      <td>10498</td>\n",
              "      <td>September New Homes Sales Rise——-Back To 1992 ...</td>\n",
              "      <td>['septemb', 'new', 'home', 'sale', 'rise', 'ba...</td>\n",
              "      <td>FAKE</td>\n",
              "    </tr>\n",
              "  </tbody>\n",
              "</table>\n",
              "<p>3979 rows × 5 columns</p>\n",
              "</div>\n",
              "      <button class=\"colab-df-convert\" onclick=\"convertToInteractive('df-c661d1dc-7a2b-435a-abe0-a103d0598881')\"\n",
              "              title=\"Convert this dataframe to an interactive table.\"\n",
              "              style=\"display:none;\">\n",
              "        \n",
              "  <svg xmlns=\"http://www.w3.org/2000/svg\" height=\"24px\"viewBox=\"0 0 24 24\"\n",
              "       width=\"24px\">\n",
              "    <path d=\"M0 0h24v24H0V0z\" fill=\"none\"/>\n",
              "    <path d=\"M18.56 5.44l.94 2.06.94-2.06 2.06-.94-2.06-.94-.94-2.06-.94 2.06-2.06.94zm-11 1L8.5 8.5l.94-2.06 2.06-.94-2.06-.94L8.5 2.5l-.94 2.06-2.06.94zm10 10l.94 2.06.94-2.06 2.06-.94-2.06-.94-.94-2.06-.94 2.06-2.06.94z\"/><path d=\"M17.41 7.96l-1.37-1.37c-.4-.4-.92-.59-1.43-.59-.52 0-1.04.2-1.43.59L10.3 9.45l-7.72 7.72c-.78.78-.78 2.05 0 2.83L4 21.41c.39.39.9.59 1.41.59.51 0 1.02-.2 1.41-.59l7.78-7.78 2.81-2.81c.8-.78.8-2.07 0-2.86zM5.41 20L4 18.59l7.72-7.72 1.47 1.35L5.41 20z\"/>\n",
              "  </svg>\n",
              "      </button>\n",
              "      \n",
              "  <style>\n",
              "    .colab-df-container {\n",
              "      display:flex;\n",
              "      flex-wrap:wrap;\n",
              "      gap: 12px;\n",
              "    }\n",
              "\n",
              "    .colab-df-convert {\n",
              "      background-color: #E8F0FE;\n",
              "      border: none;\n",
              "      border-radius: 50%;\n",
              "      cursor: pointer;\n",
              "      display: none;\n",
              "      fill: #1967D2;\n",
              "      height: 32px;\n",
              "      padding: 0 0 0 0;\n",
              "      width: 32px;\n",
              "    }\n",
              "\n",
              "    .colab-df-convert:hover {\n",
              "      background-color: #E2EBFA;\n",
              "      box-shadow: 0px 1px 2px rgba(60, 64, 67, 0.3), 0px 1px 3px 1px rgba(60, 64, 67, 0.15);\n",
              "      fill: #174EA6;\n",
              "    }\n",
              "\n",
              "    [theme=dark] .colab-df-convert {\n",
              "      background-color: #3B4455;\n",
              "      fill: #D2E3FC;\n",
              "    }\n",
              "\n",
              "    [theme=dark] .colab-df-convert:hover {\n",
              "      background-color: #434B5C;\n",
              "      box-shadow: 0px 1px 3px 1px rgba(0, 0, 0, 0.15);\n",
              "      filter: drop-shadow(0px 1px 2px rgba(0, 0, 0, 0.3));\n",
              "      fill: #FFFFFF;\n",
              "    }\n",
              "  </style>\n",
              "\n",
              "      <script>\n",
              "        const buttonEl =\n",
              "          document.querySelector('#df-c661d1dc-7a2b-435a-abe0-a103d0598881 button.colab-df-convert');\n",
              "        buttonEl.style.display =\n",
              "          google.colab.kernel.accessAllowed ? 'block' : 'none';\n",
              "\n",
              "        async function convertToInteractive(key) {\n",
              "          const element = document.querySelector('#df-c661d1dc-7a2b-435a-abe0-a103d0598881');\n",
              "          const dataTable =\n",
              "            await google.colab.kernel.invokeFunction('convertToInteractive',\n",
              "                                                     [key], {});\n",
              "          if (!dataTable) return;\n",
              "\n",
              "          const docLinkHtml = 'Like what you see? Visit the ' +\n",
              "            '<a target=\"_blank\" href=https://colab.research.google.com/notebooks/data_table.ipynb>data table notebook</a>'\n",
              "            + ' to learn more about interactive tables.';\n",
              "          element.innerHTML = '';\n",
              "          dataTable['output_type'] = 'display_data';\n",
              "          await google.colab.output.renderOutput(dataTable, element);\n",
              "          const docLink = document.createElement('div');\n",
              "          docLink.innerHTML = docLinkHtml;\n",
              "          element.appendChild(docLink);\n",
              "        }\n",
              "      </script>\n",
              "    </div>\n",
              "  </div>\n",
              "  "
            ]
          },
          "metadata": {},
          "execution_count": 10
        }
      ]
    },
    {
      "cell_type": "code",
      "source": [
        "#df_text= df['text']#.str.split()\n",
        "type(df['text'])"
      ],
      "metadata": {
        "colab": {
          "base_uri": "https://localhost:8080/"
        },
        "id": "PcA6vXffEqdL",
        "outputId": "c84bfb96-4edc-482f-8462-b314c3074292"
      },
      "execution_count": 11,
      "outputs": [
        {
          "output_type": "execute_result",
          "data": {
            "text/plain": [
              "pandas.core.series.Series"
            ]
          },
          "metadata": {},
          "execution_count": 11
        }
      ]
    },
    {
      "cell_type": "code",
      "source": [
        "from sklearn.feature_extraction.text import TfidfVectorizer\n",
        "from sklearn.model_selection import train_test_split"
      ],
      "metadata": {
        "id": "5x2e7Ysd-FdA"
      },
      "execution_count": 12,
      "outputs": []
    },
    {
      "cell_type": "code",
      "source": [
        "# DataFlair - Splitting the dataset\n",
        "x_train, x_test, y_train, y_test = train_test_split(df['text'], df['label'], test_size=0.33)"
      ],
      "metadata": {
        "id": "BFaXW8So-G1C"
      },
      "execution_count": 13,
      "outputs": []
    },
    {
      "cell_type": "code",
      "source": [
        "from sklearn import svm\n",
        "from sklearn.metrics import accuracy_score\n",
        "#DataFlair - Initialize a TfidfVectorizer\n",
        "tfidf_vectorizer=TfidfVectorizer(stop_words='english', max_df=0.6)\n",
        "#DataFlair - Fit and transform train set, transform test set\n",
        "tfidf_train=tfidf_vectorizer.fit_transform(x_train) \n",
        "tfidf_test=tfidf_vectorizer.transform(x_test)"
      ],
      "metadata": {
        "id": "SI3eV2ze-HAP"
      },
      "execution_count": 16,
      "outputs": []
    },
    {
      "cell_type": "code",
      "source": [
        "clf = svm.SVC(kernel='rbf')\n",
        "clf.fit(tfidf_train, y_train)\n",
        "y_pred = clf.predict(tfidf_test)\n",
        "accuracy_score(y_test, y_pred)"
      ],
      "metadata": {
        "colab": {
          "base_uri": "https://localhost:8080/"
        },
        "id": "4-XtmLJN-_py",
        "outputId": "e4e5e83a-f1d5-4b13-85a0-045ca094471f"
      },
      "execution_count": 17,
      "outputs": [
        {
          "output_type": "execute_result",
          "data": {
            "text/plain": [
              "0.9079147640791476"
            ]
          },
          "metadata": {},
          "execution_count": 17
        }
      ]
    },
    {
      "cell_type": "code",
      "source": [
        "#see other code in this repository for the accuracy of unstemmed data."
      ],
      "metadata": {
        "id": "d1gzjMVK87r_"
      },
      "execution_count": null,
      "outputs": []
    }
  ]
}